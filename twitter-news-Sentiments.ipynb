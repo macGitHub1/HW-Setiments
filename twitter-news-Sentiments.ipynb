{
 "cells": [
  {
   "cell_type": "code",
   "execution_count": 1,
   "metadata": {},
   "outputs": [],
   "source": [
    "# Dependencies\n",
    "import tweepy\n",
    "import pandas as pd\n",
    "import numpy as np\n",
    "from datetime import datetime, date, time, timedelta\n",
    "import matplotlib.pyplot as plt\n",
    "import seaborn as sns\n",
    "from textblob import TextBlob\n",
    "import json\n",
    "from config import consumer_key, consumer_secret, access_token, access_token_secret"
   ]
  },
  {
   "cell_type": "code",
   "execution_count": 2,
   "metadata": {},
   "outputs": [],
   "source": [
    "# Import and Initialize Sentiment Analyzer\n",
    "from vaderSentiment.vaderSentiment import SentimentIntensityAnalyzer\n",
    "analyzer = SentimentIntensityAnalyzer()"
   ]
  },
  {
   "cell_type": "code",
   "execution_count": 3,
   "metadata": {},
   "outputs": [],
   "source": [
    "# Twitter API Keys\n",
    "consumer_key = consumer_key\n",
    "consumer_secret = consumer_secret\n",
    "access_token = access_token\n",
    "access_token_secret = access_token_secret\n",
    "\n",
    "\n",
    "#consumer_key = \"EsL9VcKMyoyq8XuJsT1okbqul\"\n",
    "#consumer_secret = \"yVYSDs5L2u8ryU3RcuhpyGOyoaupsTNL0rVrD4SIZ3mJobiRuZ\"\n",
    "#access_token = \"71095164-Wa9xHM2rB9X6s98LSshkROImlFTTlXKC4zwv3R9t7\"\n",
    "#access_token_secret = \"ThbyID6RaBk4gOtEfqBdPqWPz9g9ghi1dEv4x5dG7mH60\"\n",
    "\n",
    "\n"
   ]
  },
  {
   "cell_type": "code",
   "execution_count": 4,
   "metadata": {},
   "outputs": [],
   "source": [
    "# Setup Tweepy API Authentication\n",
    "auth = tweepy.OAuthHandler(consumer_key, consumer_secret)\n",
    "auth.set_access_token(access_token, access_token_secret)\n",
    "api = tweepy.API(auth, parser=tweepy.parsers.JSONParser())"
   ]
  },
  {
   "cell_type": "code",
   "execution_count": 5,
   "metadata": {},
   "outputs": [],
   "source": [
    "#Target users on twitter\n",
    "user_target = [\"BBC\",\"CBS\",\"CNN\",\"FoxNews\",\"nytimes\"]\n",
    "numberOfTweetsRequired = 100\n",
    "sourceTweetsDict = {}\n"
   ]
  },
  {
   "cell_type": "code",
   "execution_count": 6,
   "metadata": {},
   "outputs": [],
   "source": [
    "#This cell will take some time to run\n",
    "for user in user_target:\n",
    "    counter = 0\n",
    "    sourceTweetsDict[user] = [] \n",
    "    for x in range(1, 6): # 20 * x = total tweets \n",
    "\n",
    "        # Get all tweets from home feed\n",
    "         public_tweets = api.user_timeline(user, page=x) \n",
    "\n",
    "         for tweet in public_tweets:\n",
    "            sourceTweetsDict[user].append(tweet[\"text\"])\n",
    "#print(sourceTweetsDict)\n",
    "   "
   ]
  },
  {
   "cell_type": "code",
   "execution_count": 7,
   "metadata": {},
   "outputs": [],
   "source": [
    "#verify all data was retrieve\n",
    "numberOfTweetsRequired = 100\n",
    "for key in sourceTweetsDict.keys():\n",
    "    if(len (sourceTweetsDict[key]) != numberOfTweetsRequired):\n",
    "        print(\"Failure: not enough tweets from --> \" + str(key))\n",
    "\n",
    "     "
   ]
  },
  {
   "cell_type": "code",
   "execution_count": 8,
   "metadata": {},
   "outputs": [],
   "source": [
    "def getAvg(tweet = \"\"):\n",
    "    sentimentCount = 0\n",
    "    sentimentOut = []     #to store a list of sentime value per tweet\n",
    "    zen = TextBlob(tweet)\n",
    "    for sentence in zen.sentences:\n",
    "                 sentimentOut.append(sentence.sentiment.polarity)\n",
    "                 #print(sentence.sentiment.polarity)\n",
    "                 sentimentCount = sentimentCount + 1\n",
    "    return(np.mean(sentimentOut))\n",
    "    "
   ]
  },
  {
   "cell_type": "code",
   "execution_count": 9,
   "metadata": {},
   "outputs": [],
   "source": [
    "everySentiment = {}\n",
    "everySentiment[\"Media Type\"] = []\n",
    "everySentiment[\"Tweetx\"] = []\n",
    "everySentiment[\"Polarity\"] = []\n",
    "\n",
    "for key in sourceTweetsDict.keys():\n",
    "    for x in range(numberOfTweetsRequired):\n",
    "        everySentiment[\"Media Type\"].append(key)\n",
    "        everySentiment[\"Tweetx\"].append(x)\n",
    "        tweet = sourceTweetsDict[key][x]            \n",
    "        everySentiment[\"Polarity\"].append( getAvg(tweet)) \n",
    "        \n",
    "        \n",
    "#print(len (everySentiment[\"Polarity\"]))"
   ]
  },
  {
   "cell_type": "code",
   "execution_count": 10,
   "metadata": {},
   "outputs": [],
   "source": [
    "#translate tweet to senitment -1 to 1\n",
    "sourceSentiment = {}\n",
    "\n",
    "for key in sourceTweetsDict.keys():\n",
    "    sourceSentiment[key] = [] \n",
    "    for tweet in sourceTweetsDict[key]:\n",
    "         zen = TextBlob(tweet)\n",
    "         sentimentCount = 0\n",
    "         sentimentOut = []     #to store a list of sentime value per tweet\n",
    "         for sentence in zen.sentences:\n",
    "             sentimentOut.append(sentence.sentiment.polarity)\n",
    "             #print(sentence.sentiment.polarity)\n",
    "             sentimentCount = sentimentCount + 1\n",
    "         sourceSentiment[key].append( sum(sentimentOut)/sentimentCount) \n",
    "         #print(\"Avg: \" + str( sum(sentimentOut)/sentimentCount))\n",
    "       "
   ]
  },
  {
   "cell_type": "code",
   "execution_count": 11,
   "metadata": {},
   "outputs": [
    {
     "name": "stdout",
     "output_type": "stream",
     "text": [
      "User: BBC\n",
      "  Compound: 0.092\n",
      "  Positive: 0.091\n",
      "  Neutral:  0.861\n",
      "  Negative: 0.048\n",
      "User: CBS\n",
      "  Compound: 0.370\n",
      "  Positive: 0.152\n",
      "  Neutral:  0.829\n",
      "  Negative: 0.019\n",
      "User: CNN\n",
      "  Compound: -0.062\n",
      "  Positive: 0.066\n",
      "  Neutral:  0.832\n",
      "  Negative: 0.102\n",
      "User: FoxNews\n",
      "  Compound: -0.042\n",
      "  Positive: 0.074\n",
      "  Neutral:  0.830\n",
      "  Negative: 0.096\n",
      "User: nytimes\n",
      "  Compound: 0.034\n",
      "  Positive: 0.094\n",
      "  Neutral:  0.823\n",
      "  Negative: 0.082\n"
     ]
    }
   ],
   "source": [
    "#Vader Analysis\n",
    "vader_results_list = []\n",
    "for key in sourceTweetsDict.keys():\n",
    "\n",
    "    # Variables for holding sentiments\n",
    "    compound_list = []\n",
    "    positive_list = []\n",
    "    negative_list = []\n",
    "    neutral_list = []\n",
    "\n",
    "    # Loop through all tweets\n",
    "    for tweetText in sourceTweetsDict[key]:\n",
    "\n",
    "        # Run Vader Analysis on each tweet\n",
    "        results = analyzer.polarity_scores(tweetText)\n",
    "        compound = results[\"compound\"]\n",
    "        pos = results[\"pos\"]\n",
    "        neu = results[\"neu\"]\n",
    "        neg = results[\"neg\"]\n",
    "\n",
    "        # Add each value to the appropriate list\n",
    "        compound_list.append(compound)\n",
    "        positive_list.append(pos)\n",
    "        negative_list.append(neg)\n",
    "        neutral_list.append(neu)\n",
    "\n",
    "    # Create a dictionaty of results\n",
    "    user_results = {\n",
    "        \"Username\": key,\n",
    "        \"Compound Score\": np.mean(compound_list),\n",
    "        \"Postive Score\":  np.mean(positive_list),\n",
    "        \"Neutral Score\":  np.mean(neutral_list),\n",
    "        \"Negative Score\": np.mean(negative_list)\n",
    "      }\n",
    "\n",
    "    # Append dictionary to list\n",
    "    vader_results_list.append(user_results)\n",
    "\n",
    "    # Print the Averages\n",
    "    print(f\"User: {key}\")\n",
    "    print(f\"  Compound: {np.mean(compound_list):.3f}\")\n",
    "    print(f\"  Positive: {np.mean(positive_list):.3f}\")\n",
    "    print(f\"  Neutral:  {np.mean(neutral_list):.3f}\")\n",
    "    print(f\"  Negative: {np.mean(negative_list):.3f}\")"
   ]
  },
  {
   "cell_type": "code",
   "execution_count": 17,
   "metadata": {},
   "outputs": [
    {
     "data": {
      "image/png": "[encoded data removed]",
      "text/plain": [
       "<Figure size 437.875x360 with 1 Axes>"
      ]
     },
     "metadata": {},
     "output_type": "display_data"
    }
   ],
   "source": [
    "#plot TextBlob data scatter plot\n",
    "%matplotlib inline\n",
    "sentiment_df = pd.DataFrame.from_dict(everySentiment)\n",
    "\n",
    "\n",
    "sns.lmplot(data=sentiment_df, x='Tweetx', y=\"Polarity\", hue=\"Media Type\",fit_reg=False)\n",
    "plt.show()"
   ]
  },
  {
   "cell_type": "code",
   "execution_count": null,
   "metadata": {},
   "outputs": [],
   "source": []
  }
 ],
 "metadata": {
  "kernelspec": {
   "display_name": "Python 3",
   "language": "python",
   "name": "python3"
  },
  "language_info": {
   "codemirror_mode": {
    "name": "ipython",
    "version": 3
   },
   "file_extension": ".py",
   "mimetype": "text/x-python",
   "name": "python",
   "nbconvert_exporter": "python",
   "pygments_lexer": "ipython3",
   "version": "3.6.1"
  }
 },
 "nbformat": 4,
 "nbformat_minor": 2
}
